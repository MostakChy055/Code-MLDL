{
  "nbformat": 4,
  "nbformat_minor": 0,
  "metadata": {
    "colab": {
      "provenance": []
    },
    "kernelspec": {
      "name": "python3",
      "display_name": "Python 3"
    },
    "language_info": {
      "name": "python"
    }
  },
  "cells": [
    {
      "cell_type": "code",
      "execution_count": null,
      "metadata": {
        "id": "61mQqp8ID6kq"
      },
      "outputs": [],
      "source": [
        "import gensim\n",
        "import os"
      ]
    },
    {
      "cell_type": "code",
      "source": [
        "import pandas as pd\n",
        "devDs = pd.read_csv('/content/CT24_checkworthy_arabic_dev-test.tsv', sep = '\\t')\n",
        "testtDs = pd.read_csv('/content/CT24_checkworthy_arabic_dev.tsv', sep = '\\t')\n",
        "trainDs = pd.read_csv('/content/CT24_checkworthy_arabic_train.tsv', sep = '\\t')\n",
        "testDs = pd.read_csv('/content/CT24_checkworthy_arabic_test_gold.tsv', sep = '\\t')\n",
        "\n",
        "df = pd.concat([devDs, testtDs, trainDs], ignore_index = True)\n",
        "df.head()"
      ],
      "metadata": {
        "colab": {
          "base_uri": "https://localhost:8080/",
          "height": 226
        },
        "id": "_SOSl-kkD4io",
        "outputId": "13df8c58-473c-487e-e1c1-9f90f1d888ea"
      },
      "execution_count": null,
      "outputs": [
        {
          "output_type": "execute_result",
          "data": {
            "text/plain": [
              "       tweet_id                                          tweet_url  \\\n",
              "0  1.384983e+18  http://twitter.com/user/status/138498294809351...   \n",
              "1  1.396570e+18  http://twitter.com/user/status/139657017341556...   \n",
              "2  1.478319e+18  http://twitter.com/user/status/147831862807646...   \n",
              "3  1.350517e+18  http://twitter.com/user/status/135051727376580...   \n",
              "4  1.478363e+18  http://twitter.com/user/status/147836346118490...   \n",
              "\n",
              "                                          tweet_text class_label  \n",
              "0  تم إعطاء أكثر من 950 مليون لقاح كوفيد حول العا...         Yes  \n",
              "1  الشك.. اقطعه باليقين.. الطمع.. اهزمه بالقناعة....          No  \n",
              "2  نرصد حالياً ارتفاعا في عدد الإصابات بفيروس كور...         Yes  \n",
              "3  فيديو متداول عالميًا يجاوب لصلب سؤال أصحاب نظر...         Yes  \n",
              "4  استكمال الحصول على جرعات اللقاح؛ حماية للأسرة ...          No  "
            ],
            "text/html": [
              "\n",
              "  <div id=\"df-bb7e8e1a-2900-4fa3-84c6-1041ad265cec\" class=\"colab-df-container\">\n",
              "    <div>\n",
              "<style scoped>\n",
              "    .dataframe tbody tr th:only-of-type {\n",
              "        vertical-align: middle;\n",
              "    }\n",
              "\n",
              "    .dataframe tbody tr th {\n",
              "        vertical-align: top;\n",
              "    }\n",
              "\n",
              "    .dataframe thead th {\n",
              "        text-align: right;\n",
              "    }\n",
              "</style>\n",
              "<table border=\"1\" class=\"dataframe\">\n",
              "  <thead>\n",
              "    <tr style=\"text-align: right;\">\n",
              "      <th></th>\n",
              "      <th>tweet_id</th>\n",
              "      <th>tweet_url</th>\n",
              "      <th>tweet_text</th>\n",
              "      <th>class_label</th>\n",
              "    </tr>\n",
              "  </thead>\n",
              "  <tbody>\n",
              "    <tr>\n",
              "      <th>0</th>\n",
              "      <td>1.384983e+18</td>\n",
              "      <td>http://twitter.com/user/status/138498294809351...</td>\n",
              "      <td>تم إعطاء أكثر من 950 مليون لقاح كوفيد حول العا...</td>\n",
              "      <td>Yes</td>\n",
              "    </tr>\n",
              "    <tr>\n",
              "      <th>1</th>\n",
              "      <td>1.396570e+18</td>\n",
              "      <td>http://twitter.com/user/status/139657017341556...</td>\n",
              "      <td>الشك.. اقطعه باليقين.. الطمع.. اهزمه بالقناعة....</td>\n",
              "      <td>No</td>\n",
              "    </tr>\n",
              "    <tr>\n",
              "      <th>2</th>\n",
              "      <td>1.478319e+18</td>\n",
              "      <td>http://twitter.com/user/status/147831862807646...</td>\n",
              "      <td>نرصد حالياً ارتفاعا في عدد الإصابات بفيروس كور...</td>\n",
              "      <td>Yes</td>\n",
              "    </tr>\n",
              "    <tr>\n",
              "      <th>3</th>\n",
              "      <td>1.350517e+18</td>\n",
              "      <td>http://twitter.com/user/status/135051727376580...</td>\n",
              "      <td>فيديو متداول عالميًا يجاوب لصلب سؤال أصحاب نظر...</td>\n",
              "      <td>Yes</td>\n",
              "    </tr>\n",
              "    <tr>\n",
              "      <th>4</th>\n",
              "      <td>1.478363e+18</td>\n",
              "      <td>http://twitter.com/user/status/147836346118490...</td>\n",
              "      <td>استكمال الحصول على جرعات اللقاح؛ حماية للأسرة ...</td>\n",
              "      <td>No</td>\n",
              "    </tr>\n",
              "  </tbody>\n",
              "</table>\n",
              "</div>\n",
              "    <div class=\"colab-df-buttons\">\n",
              "\n",
              "  <div class=\"colab-df-container\">\n",
              "    <button class=\"colab-df-convert\" onclick=\"convertToInteractive('df-bb7e8e1a-2900-4fa3-84c6-1041ad265cec')\"\n",
              "            title=\"Convert this dataframe to an interactive table.\"\n",
              "            style=\"display:none;\">\n",
              "\n",
              "  <svg xmlns=\"http://www.w3.org/2000/svg\" height=\"24px\" viewBox=\"0 -960 960 960\">\n",
              "    <path d=\"M120-120v-720h720v720H120Zm60-500h600v-160H180v160Zm220 220h160v-160H400v160Zm0 220h160v-160H400v160ZM180-400h160v-160H180v160Zm440 0h160v-160H620v160ZM180-180h160v-160H180v160Zm440 0h160v-160H620v160Z\"/>\n",
              "  </svg>\n",
              "    </button>\n",
              "\n",
              "  <style>\n",
              "    .colab-df-container {\n",
              "      display:flex;\n",
              "      gap: 12px;\n",
              "    }\n",
              "\n",
              "    .colab-df-convert {\n",
              "      background-color: #E8F0FE;\n",
              "      border: none;\n",
              "      border-radius: 50%;\n",
              "      cursor: pointer;\n",
              "      display: none;\n",
              "      fill: #1967D2;\n",
              "      height: 32px;\n",
              "      padding: 0 0 0 0;\n",
              "      width: 32px;\n",
              "    }\n",
              "\n",
              "    .colab-df-convert:hover {\n",
              "      background-color: #E2EBFA;\n",
              "      box-shadow: 0px 1px 2px rgba(60, 64, 67, 0.3), 0px 1px 3px 1px rgba(60, 64, 67, 0.15);\n",
              "      fill: #174EA6;\n",
              "    }\n",
              "\n",
              "    .colab-df-buttons div {\n",
              "      margin-bottom: 4px;\n",
              "    }\n",
              "\n",
              "    [theme=dark] .colab-df-convert {\n",
              "      background-color: #3B4455;\n",
              "      fill: #D2E3FC;\n",
              "    }\n",
              "\n",
              "    [theme=dark] .colab-df-convert:hover {\n",
              "      background-color: #434B5C;\n",
              "      box-shadow: 0px 1px 3px 1px rgba(0, 0, 0, 0.15);\n",
              "      filter: drop-shadow(0px 1px 2px rgba(0, 0, 0, 0.3));\n",
              "      fill: #FFFFFF;\n",
              "    }\n",
              "  </style>\n",
              "\n",
              "    <script>\n",
              "      const buttonEl =\n",
              "        document.querySelector('#df-bb7e8e1a-2900-4fa3-84c6-1041ad265cec button.colab-df-convert');\n",
              "      buttonEl.style.display =\n",
              "        google.colab.kernel.accessAllowed ? 'block' : 'none';\n",
              "\n",
              "      async function convertToInteractive(key) {\n",
              "        const element = document.querySelector('#df-bb7e8e1a-2900-4fa3-84c6-1041ad265cec');\n",
              "        const dataTable =\n",
              "          await google.colab.kernel.invokeFunction('convertToInteractive',\n",
              "                                                    [key], {});\n",
              "        if (!dataTable) return;\n",
              "\n",
              "        const docLinkHtml = 'Like what you see? Visit the ' +\n",
              "          '<a target=\"_blank\" href=https://colab.research.google.com/notebooks/data_table.ipynb>data table notebook</a>'\n",
              "          + ' to learn more about interactive tables.';\n",
              "        element.innerHTML = '';\n",
              "        dataTable['output_type'] = 'display_data';\n",
              "        await google.colab.output.renderOutput(dataTable, element);\n",
              "        const docLink = document.createElement('div');\n",
              "        docLink.innerHTML = docLinkHtml;\n",
              "        element.appendChild(docLink);\n",
              "      }\n",
              "    </script>\n",
              "  </div>\n",
              "\n",
              "\n",
              "<div id=\"df-34f30c1f-a444-4e00-aa63-f18978a42552\">\n",
              "  <button class=\"colab-df-quickchart\" onclick=\"quickchart('df-34f30c1f-a444-4e00-aa63-f18978a42552')\"\n",
              "            title=\"Suggest charts\"\n",
              "            style=\"display:none;\">\n",
              "\n",
              "<svg xmlns=\"http://www.w3.org/2000/svg\" height=\"24px\"viewBox=\"0 0 24 24\"\n",
              "     width=\"24px\">\n",
              "    <g>\n",
              "        <path d=\"M19 3H5c-1.1 0-2 .9-2 2v14c0 1.1.9 2 2 2h14c1.1 0 2-.9 2-2V5c0-1.1-.9-2-2-2zM9 17H7v-7h2v7zm4 0h-2V7h2v10zm4 0h-2v-4h2v4z\"/>\n",
              "    </g>\n",
              "</svg>\n",
              "  </button>\n",
              "\n",
              "<style>\n",
              "  .colab-df-quickchart {\n",
              "      --bg-color: #E8F0FE;\n",
              "      --fill-color: #1967D2;\n",
              "      --hover-bg-color: #E2EBFA;\n",
              "      --hover-fill-color: #174EA6;\n",
              "      --disabled-fill-color: #AAA;\n",
              "      --disabled-bg-color: #DDD;\n",
              "  }\n",
              "\n",
              "  [theme=dark] .colab-df-quickchart {\n",
              "      --bg-color: #3B4455;\n",
              "      --fill-color: #D2E3FC;\n",
              "      --hover-bg-color: #434B5C;\n",
              "      --hover-fill-color: #FFFFFF;\n",
              "      --disabled-bg-color: #3B4455;\n",
              "      --disabled-fill-color: #666;\n",
              "  }\n",
              "\n",
              "  .colab-df-quickchart {\n",
              "    background-color: var(--bg-color);\n",
              "    border: none;\n",
              "    border-radius: 50%;\n",
              "    cursor: pointer;\n",
              "    display: none;\n",
              "    fill: var(--fill-color);\n",
              "    height: 32px;\n",
              "    padding: 0;\n",
              "    width: 32px;\n",
              "  }\n",
              "\n",
              "  .colab-df-quickchart:hover {\n",
              "    background-color: var(--hover-bg-color);\n",
              "    box-shadow: 0 1px 2px rgba(60, 64, 67, 0.3), 0 1px 3px 1px rgba(60, 64, 67, 0.15);\n",
              "    fill: var(--button-hover-fill-color);\n",
              "  }\n",
              "\n",
              "  .colab-df-quickchart-complete:disabled,\n",
              "  .colab-df-quickchart-complete:disabled:hover {\n",
              "    background-color: var(--disabled-bg-color);\n",
              "    fill: var(--disabled-fill-color);\n",
              "    box-shadow: none;\n",
              "  }\n",
              "\n",
              "  .colab-df-spinner {\n",
              "    border: 2px solid var(--fill-color);\n",
              "    border-color: transparent;\n",
              "    border-bottom-color: var(--fill-color);\n",
              "    animation:\n",
              "      spin 1s steps(1) infinite;\n",
              "  }\n",
              "\n",
              "  @keyframes spin {\n",
              "    0% {\n",
              "      border-color: transparent;\n",
              "      border-bottom-color: var(--fill-color);\n",
              "      border-left-color: var(--fill-color);\n",
              "    }\n",
              "    20% {\n",
              "      border-color: transparent;\n",
              "      border-left-color: var(--fill-color);\n",
              "      border-top-color: var(--fill-color);\n",
              "    }\n",
              "    30% {\n",
              "      border-color: transparent;\n",
              "      border-left-color: var(--fill-color);\n",
              "      border-top-color: var(--fill-color);\n",
              "      border-right-color: var(--fill-color);\n",
              "    }\n",
              "    40% {\n",
              "      border-color: transparent;\n",
              "      border-right-color: var(--fill-color);\n",
              "      border-top-color: var(--fill-color);\n",
              "    }\n",
              "    60% {\n",
              "      border-color: transparent;\n",
              "      border-right-color: var(--fill-color);\n",
              "    }\n",
              "    80% {\n",
              "      border-color: transparent;\n",
              "      border-right-color: var(--fill-color);\n",
              "      border-bottom-color: var(--fill-color);\n",
              "    }\n",
              "    90% {\n",
              "      border-color: transparent;\n",
              "      border-bottom-color: var(--fill-color);\n",
              "    }\n",
              "  }\n",
              "</style>\n",
              "\n",
              "  <script>\n",
              "    async function quickchart(key) {\n",
              "      const quickchartButtonEl =\n",
              "        document.querySelector('#' + key + ' button');\n",
              "      quickchartButtonEl.disabled = true;  // To prevent multiple clicks.\n",
              "      quickchartButtonEl.classList.add('colab-df-spinner');\n",
              "      try {\n",
              "        const charts = await google.colab.kernel.invokeFunction(\n",
              "            'suggestCharts', [key], {});\n",
              "      } catch (error) {\n",
              "        console.error('Error during call to suggestCharts:', error);\n",
              "      }\n",
              "      quickchartButtonEl.classList.remove('colab-df-spinner');\n",
              "      quickchartButtonEl.classList.add('colab-df-quickchart-complete');\n",
              "    }\n",
              "    (() => {\n",
              "      let quickchartButtonEl =\n",
              "        document.querySelector('#df-34f30c1f-a444-4e00-aa63-f18978a42552 button');\n",
              "      quickchartButtonEl.style.display =\n",
              "        google.colab.kernel.accessAllowed ? 'block' : 'none';\n",
              "    })();\n",
              "  </script>\n",
              "</div>\n",
              "\n",
              "    </div>\n",
              "  </div>\n"
            ],
            "application/vnd.google.colaboratory.intrinsic+json": {
              "type": "dataframe",
              "variable_name": "df",
              "summary": "{\n  \"name\": \"df\",\n  \"rows\": 8926,\n  \"fields\": [\n    {\n      \"column\": \"tweet_id\",\n      \"properties\": {\n        \"dtype\": \"number\",\n        \"std\": 7.0535300598723576e+16,\n        \"min\": 8.892012867925729e+17,\n        \"max\": 1.563548532266922e+18,\n        \"num_unique_values\": 8926,\n        \"samples\": [\n          1.2928267047555277e+18,\n          1.2987053064998543e+18,\n          1.5242979530196746e+18\n        ],\n        \"semantic_type\": \"\",\n        \"description\": \"\"\n      }\n    },\n    {\n      \"column\": \"tweet_url\",\n      \"properties\": {\n        \"dtype\": \"string\",\n        \"num_unique_values\": 8925,\n        \"samples\": [\n          \"http://twitter.com/user/status/1293135460596961282\",\n          \"http://twitter.com/user/status/1298705306499854339\",\n          \"http://twitter.com/user/status/1524297953019674625\"\n        ],\n        \"semantic_type\": \"\",\n        \"description\": \"\"\n      }\n    },\n    {\n      \"column\": \"tweet_text\",\n      \"properties\": {\n        \"dtype\": \"string\",\n        \"num_unique_values\": 8925,\n        \"samples\": [\n          \"\\u0623\\u0639\\u0644\\u0646 \\u0627\\u0644\\u0631\\u0626\\u064a\\u0633 \\u0627\\u0644\\u0631\\u0648\\u0633\\u064a \\u0641\\u0644\\u0627\\u062f\\u064a\\u0645\\u064a\\u0631 \\u0628\\u0648\\u062a\\u064a\\u0646 \\u0623\\u0646 \\u0628\\u0644\\u0627\\u062f\\u0647 \\u0637\\u0648\\u0631\\u062a \\u0623\\u0648\\u0644 \\u0644\\u0642\\u0627\\u062d \\u064a\\u0648\\u0641\\u0651\\u0631 \\\"\\u0645\\u0646\\u0627\\u0639\\u0629 \\u0645\\u0633\\u062a\\u062f\\u0627\\u0645\\u0629\\\" \\u0636\\u062f \\u0641\\u064a\\u0631\\u0648\\u0633 \\u0643\\u0648\\u0631\\u0648\\u0646\\u0627 \\u0627\\u0644\\u0645\\u0633\\u062a\\u062c\\u062f. - \\u0648\\u0642\\u0627\\u0644 \\u0625\\u0646 \\u0625\\u062d\\u062f\\u0649 \\u0628\\u0646\\u0627\\u062a\\u0647 \\u0637\\u064f\\u0639\\u0645\\u062a \\u0628\\u0627\\u0644\\u0644\\u0642\\u0627\\u062d \\u0627\\u0644\\u062c\\u062f\\u064a\\u062f \\u0648\\u0623\\u0646\\u0647 \\u0627\\u062c\\u062a\\u0627\\u0632 \\u062c\\u0645\\u064a\\u0639 \\u0627\\u0644\\u0627\\u062e\\u062a\\u0628\\u0627\\u0631\\u0627\\u062a. #\\u0643\\u0648\\u0631\\u0648\\u0646\\u0627 #\\u0631\\u0648\\u0633\\u064a\\u0627 https://t.co/bAqxqNo31A\",\n          \"\\u0644\\u0642\\u0627\\u062d \\\"\\u0633\\u0628\\u0648\\u062a\\u0646\\u064a\\u0643 \\u0641\\u064a\\\" \\u064a\\u062f\\u062e\\u0644 \\u0645\\u0631\\u062d\\u0644\\u0629 \\u062c\\u062f\\u064a\\u062f\\u0629 \\u0645\\u0646 \\u0627\\u0644\\u062a\\u062c\\u0627\\u0631\\u0628 \\u0627\\u0644\\u0633\\u0631\\u064a\\u0631\\u064a\\u0629 #\\u0643\\u0648\\u0631\\u0648\\u0646\\u0627 https://t.co/8nYdi4fTp5\",\n          \"\\u0627\\u0644\\u0625\\u0639\\u0644\\u0627\\u0646 \\u0639\\u0646 \\u0625\\u0635\\u0627\\u0628\\u0629 \\u0628\\u064a\\u0644 \\u062c\\u064a\\u062a\\u0633 \\u0628\\u0641\\u0627\\u064a\\u0631\\u0648\\u0633 \\u0643\\u0648\\u0631\\u0648\\u0646\\u0627. \\u062d\\u064a\\u062b \\u0643\\u062a\\u0628 \\u0641\\u064a \\u062a\\u063a\\u0631\\u064a\\u062f\\u0629: \\u0623\\u0635\\u0628\\u062a \\u0628\\u0643\\u0648\\u0631\\u0648\\u0646\\u0627\\u060c \\u0623\\u0634\\u0639\\u0631 \\u0628\\u0623\\u0639\\u0631\\u0627\\u0636 \\u062e\\u0641\\u064a\\u0641\\u0629\\u060c \\u0623\\u0646\\u0627 \\u0645\\u062d\\u0638\\u0648\\u0638 \\u0644\\u0623\\u0646\\u064a \\u062a\\u0644\\u0642\\u064a\\u062a \\u0627\\u0644\\u0644\\u0642\\u0627\\u062d\\u0627\\u062a. \\u0648\\u0642\\u062f \\u0623\\u063a\\u0644\\u0642 \\u062e\\u0627\\u0635\\u064a\\u0629 \\u0627\\u0644\\u0631\\u062f\\u0648\\u062f \\u0639\\u0644\\u0649 \\u062a\\u063a\\u0631\\u064a\\u062f\\u062a\\u0647 \\u0627\\u0644\\u062a\\u064a \\u0646\\u0634\\u0631\\u0647\\u0627 \\u0648\\u0639\\u0646\\u062f \\u0627\\u0644\\u0630\\u0647\\u0627\\u0628 \\u0644\\u0644\\u0627\\u0642\\u062a\\u0628\\u0627\\u0633\\u0627\\u062a \\u0633\\u062a\\u062c\\u062f \\u0627\\u0644\\u0643\\u062b\\u064a\\u0631 \\u064a\\u062a\\u0645\\u0646\\u0649 \\u0644\\u0647 \\u0639\\u062f\\u0645 \\u0627\\u0644\\u0634\\u0641\\u0627\\u0621 \\u0648\\u0643\\u0644\\u0645\\u0627\\u062a \\u0623\\u062e\\u0631\\u0649 \\u0641\\u064a\\u0647\\u0627 \\u0627\\u0644\\u0643\\u062b\\u064a\\u0631 \\u0645\\u0646 \\u0627\\u0644\\u0633\\u062e\\u0637 \\u0636\\u062f\\u0647. https://t.co/mudQ40yXRj\"\n        ],\n        \"semantic_type\": \"\",\n        \"description\": \"\"\n      }\n    },\n    {\n      \"column\": \"class_label\",\n      \"properties\": {\n        \"dtype\": \"category\",\n        \"num_unique_values\": 2,\n        \"samples\": [\n          \"No\",\n          \"Yes\"\n        ],\n        \"semantic_type\": \"\",\n        \"description\": \"\"\n      }\n    }\n  ]\n}"
            }
          },
          "metadata": {},
          "execution_count": 2
        }
      ]
    },
    {
      "cell_type": "code",
      "source": [
        "no_indices = df[df['class_label'] == \"NO\"].index[:100]  # Select only the first 100 indices\n",
        "df = df.drop(no_indices)\n",
        "df['class_label'].value_counts()"
      ],
      "metadata": {
        "colab": {
          "base_uri": "https://localhost:8080/"
        },
        "id": "gh1CM_voD7Bh",
        "outputId": "40233759-1dfc-4136-89a3-d5c2f8add205"
      },
      "execution_count": null,
      "outputs": [
        {
          "output_type": "execute_result",
          "data": {
            "text/plain": [
              "class_label\n",
              "No     5895\n",
              "Yes    3031\n",
              "Name: count, dtype: int64"
            ]
          },
          "metadata": {},
          "execution_count": 3
        }
      ]
    },
    {
      "cell_type": "code",
      "source": [
        "import nltk\n",
        "nltk.download('punkt')"
      ],
      "metadata": {
        "colab": {
          "base_uri": "https://localhost:8080/"
        },
        "id": "iM9JHvekD8Y3",
        "outputId": "8149dd58-cdf2-4fdb-e6c0-2e08c3278081"
      },
      "execution_count": null,
      "outputs": [
        {
          "output_type": "stream",
          "name": "stderr",
          "text": [
            "[nltk_data] Downloading package punkt to /root/nltk_data...\n",
            "[nltk_data]   Unzipping tokenizers/punkt.zip.\n"
          ]
        },
        {
          "output_type": "execute_result",
          "data": {
            "text/plain": [
              "True"
            ]
          },
          "metadata": {},
          "execution_count": 4
        }
      ]
    },
    {
      "cell_type": "code",
      "source": [
        "from nltk import sent_tokenize\n",
        "from gensim.utils import simple_preprocess\n",
        "\n",
        "story = []\n",
        "for index, row in df.iterrows():\n",
        "  text = row['tweet_text']\n",
        "  raw_sent = sent_tokenize(text)\n",
        "  for sent in raw_sent:\n",
        "        story.append(simple_preprocess(sent))"
      ],
      "metadata": {
        "id": "0PIkWxoBD9AV"
      },
      "execution_count": null,
      "outputs": []
    },
    {
      "cell_type": "code",
      "source": [
        "word2vecModel = gensim.models.Word2Vec(\n",
        "    window=10,\n",
        "    min_count=2\n",
        ")"
      ],
      "metadata": {
        "id": "atiG0-n-D-kC"
      },
      "execution_count": null,
      "outputs": []
    },
    {
      "cell_type": "code",
      "source": [
        "word2vecModel.build_vocab(story)"
      ],
      "metadata": {
        "id": "HGv7WwT2EASl"
      },
      "execution_count": null,
      "outputs": []
    },
    {
      "cell_type": "code",
      "source": [
        "word2vecModel.train(story, total_examples = word2vecModel.corpus_count, epochs = word2vecModel.epochs)"
      ],
      "metadata": {
        "colab": {
          "base_uri": "https://localhost:8080/"
        },
        "id": "fU30YzhbEB72",
        "outputId": "336a5a89-c972-4a26-b758-b850e67ebd30"
      },
      "execution_count": null,
      "outputs": [
        {
          "output_type": "execute_result",
          "data": {
            "text/plain": [
              "(903585, 1233785)"
            ]
          },
          "metadata": {},
          "execution_count": 8
        }
      ]
    },
    {
      "cell_type": "code",
      "source": [
        "df['class_label'] = df['class_label'].apply(lambda x: 1 if x == 'Yes' else 0)\n",
        "df2 = testDs\n",
        "df2['class_label'] = df2['class_label'].apply(lambda x: 1 if x == 'Yes' else 0)"
      ],
      "metadata": {
        "id": "729FmJ6wEEKc"
      },
      "execution_count": null,
      "outputs": []
    },
    {
      "cell_type": "code",
      "source": [
        "!pip install keras_preprocessing"
      ],
      "metadata": {
        "colab": {
          "base_uri": "https://localhost:8080/"
        },
        "id": "J8JiEsPOEFVn",
        "outputId": "ec607d39-2aff-4e13-dc1d-5cdb207b272c"
      },
      "execution_count": null,
      "outputs": [
        {
          "output_type": "stream",
          "name": "stdout",
          "text": [
            "Collecting keras_preprocessing\n",
            "  Downloading Keras_Preprocessing-1.1.2-py2.py3-none-any.whl (42 kB)\n",
            "\u001b[?25l     \u001b[90m━━━━━━━━━━━━━━━━━━━━━━━━━━━━━━━━━━━━━━━━\u001b[0m \u001b[32m0.0/42.6 kB\u001b[0m \u001b[31m?\u001b[0m eta \u001b[36m-:--:--\u001b[0m\r\u001b[2K     \u001b[90m━━━━━━━━━━━━━━━━━━━━━━━━━━━━━━━━━━━━━━━━\u001b[0m \u001b[32m42.6/42.6 kB\u001b[0m \u001b[31m1.5 MB/s\u001b[0m eta \u001b[36m0:00:00\u001b[0m\n",
            "\u001b[?25hRequirement already satisfied: numpy>=1.9.1 in /usr/local/lib/python3.10/dist-packages (from keras_preprocessing) (1.25.2)\n",
            "Requirement already satisfied: six>=1.9.0 in /usr/local/lib/python3.10/dist-packages (from keras_preprocessing) (1.16.0)\n",
            "Installing collected packages: keras_preprocessing\n",
            "Successfully installed keras_preprocessing-1.1.2\n"
          ]
        }
      ]
    },
    {
      "cell_type": "code",
      "source": [
        "import pandas as pd\n",
        "import numpy as np\n",
        "from gensim.models import KeyedVectors\n",
        "from keras.models import Sequential, Model\n",
        "from keras.layers import Embedding, LSTM, Dense, SpatialDropout1D, Bidirectional, GRU, MultiHeadAttention, LayerNormalization, Concatenate, GlobalAveragePooling1D\n",
        "from keras.preprocessing.text import Tokenizer\n",
        "from keras.preprocessing.sequence import pad_sequences\n",
        "from sklearn.metrics import f1_score\n",
        "from nltk.tokenize import word_tokenize\n",
        "from keras.callbacks import EarlyStopping\n",
        "from imblearn.over_sampling import RandomOverSampler\n",
        "\n",
        "def get_word_embedding_model(word_embedding_type):\n",
        "    if word_embedding_type == \"word2vec\":\n",
        "        word_embedding_model = word2vecModel\n",
        "    else:\n",
        "        raise ValueError(\"Unsupported word embedding type. Choose 'word2vec' or 'fasttext'.\")\n",
        "    return word_embedding_model\n",
        "\n",
        "def get_sentence_embedding(sentence, model, word_embedding_type):\n",
        "    if word_embedding_type == \"word2vec\":\n",
        "        tokens = word_tokenize(sentence.lower())\n",
        "        vectors = [model.wv[token] for token in tokens if token in model.wv]\n",
        "        if not vectors:\n",
        "            return np.zeros(model.vector_size)\n",
        "        return np.mean(vectors, axis=0)\n",
        "    else:\n",
        "        raise ValueError(\"Unsupported word embedding type. Choose 'word2vec' or 'fasttext'.\")\n",
        "\n",
        "def create_embedding_matrix(word_index, word_embedding_model, embedding_dim):\n",
        "    embedding_matrix = np.zeros((len(word_index) + 1, embedding_dim))\n",
        "    for word, i in word_index.items():\n",
        "        if word in word_embedding_model.wv:\n",
        "            embedding_matrix[i] = word_embedding_model.wv[word]\n",
        "        else:\n",
        "            embedding_matrix[i] = np.zeros(embedding_dim)\n",
        "    return embedding_matrix\n",
        "\n",
        "def create_stacked_lstm_model(embedding_matrix, input_length, model_type):\n",
        "    model = Sequential()\n",
        "    model.add(Embedding(input_dim=embedding_matrix.shape[0],\n",
        "                        output_dim=embedding_matrix.shape[1],\n",
        "                        weights=[embedding_matrix],\n",
        "                        input_length=input_length,\n",
        "                        trainable=False))\n",
        "    model.add(SpatialDropout1D(0.2))\n",
        "\n",
        "    if model_type == \"lstm\":\n",
        "        model.add(LSTM(100, dropout=0.2, recurrent_dropout=0.2, return_sequences=True))\n",
        "        model.add(Bidirectional(LSTM(50, dropout=0.2, recurrent_dropout=0.2, return_sequences=True)))\n",
        "    elif model_type == \"bilstm\":\n",
        "        model.add(Bidirectional(LSTM(100, dropout=0.2, recurrent_dropout=0.2, return_sequences=True)))\n",
        "        model.add(Bidirectional(LSTM(50, dropout=0.2, recurrent_dropout=0.2, return_sequences=True)))\n",
        "    elif model_type == \"gru\":\n",
        "        model.add(GRU(100, dropout=0.2, recurrent_dropout=0.2, return_sequences=True))\n",
        "        model.add(GRU(50, dropout=0.2, recurrent_dropout=0.2, return_sequences=True))\n",
        "    else:\n",
        "        raise ValueError(\"Unsupported model type. Choose 'lstm', 'bilstm', or 'gru'.\")\n",
        "\n",
        "    query = model.output\n",
        "    key = model.output\n",
        "    value = model.output\n",
        "\n",
        "    attention_layer = MultiHeadAttention(num_heads=4, key_dim=50)\n",
        "    attention_output = attention_layer(query=query, value=value, key=key)\n",
        "    attention_output = LayerNormalization()(attention_output)\n",
        "\n",
        "    # Concatenate LSTM output and attention output\n",
        "    combined_output = Concatenate()([model.output, attention_output])\n",
        "\n",
        "    # Apply GlobalAveragePooling1D to aggregate the sequence into a single vector\n",
        "    combined_output = GlobalAveragePooling1D()(combined_output)\n",
        "\n",
        "    combined_output = Dense(1, activation='sigmoid')(combined_output)\n",
        "\n",
        "    final_model = Model(inputs=model.input, outputs=combined_output)\n",
        "    final_model.compile(loss='binary_crossentropy', optimizer='adam', metrics=['accuracy'])\n",
        "    return final_model\n",
        "\n",
        "def train_and_evaluate_model(train_data, dev_data, word_embedding_type, model_type):\n",
        "    y_train = train_data[\"class_label\"].values\n",
        "    y_dev = dev_data[\"class_label\"].values\n",
        "\n",
        "    word_embedding_model = get_word_embedding_model(word_embedding_type)\n",
        "\n",
        "    tokenizer = Tokenizer()\n",
        "    tokenizer.fit_on_texts(train_data[\"tweet_text\"].tolist() + dev_data[\"tweet_text\"].tolist())\n",
        "    X_train_sequences = tokenizer.texts_to_sequences(train_data[\"tweet_text\"].tolist())\n",
        "    X_dev_sequences = tokenizer.texts_to_sequences(dev_data[\"tweet_text\"].tolist())\n",
        "\n",
        "    word_index = tokenizer.word_index\n",
        "    embedding_matrix = create_embedding_matrix(word_index, word_embedding_model, word_embedding_model.vector_size)\n",
        "\n",
        "    max_sequence_length = max(len(seq) for seq in X_train_sequences + X_dev_sequences)\n",
        "    X_train_padded = pad_sequences(X_train_sequences, maxlen=max_sequence_length)\n",
        "    X_dev_padded = pad_sequences(X_dev_sequences, maxlen=max_sequence_length)\n",
        "\n",
        "    # Handle data imbalance using random oversampling\n",
        "    ros = RandomOverSampler(random_state=42)\n",
        "    X_train_padded_resampled, y_train_resampled = ros.fit_resample(X_train_padded, y_train)\n",
        "\n",
        "    stacked_lstm_model = create_stacked_lstm_model(embedding_matrix, max_sequence_length, model_type)\n",
        "\n",
        "    # Early stopping callback\n",
        "    early_stopping = EarlyStopping(monitor='val_loss', patience=3, restore_best_weights=True)\n",
        "\n",
        "    stacked_lstm_model.fit(X_train_padded_resampled, y_train_resampled, epochs=5, batch_size=32,\n",
        "                           validation_data=(X_dev_padded, y_dev),\n",
        "                           callbacks=[early_stopping])\n",
        "\n",
        "    dev_predictions = (stacked_lstm_model.predict(X_dev_padded, verbose=0) > 0.5).astype(\"int32\").flatten()\n",
        "    y_dev = y_dev.flatten()\n",
        "    f1score = f1_score(y_dev, dev_predictions)\n",
        "\n",
        "    print(f\"F1-score on Development Set: {f1score}\")\n",
        "    return stacked_lstm_model"
      ],
      "metadata": {
        "id": "X1QVJKTGEIe2"
      },
      "execution_count": null,
      "outputs": []
    },
    {
      "cell_type": "code",
      "source": [
        "word_embedding_type = \"word2vec\"\n",
        "model_type = \"lstm\"\n",
        "train_data = df\n",
        "dev_data = df2\n",
        "\n",
        "stacked_lstm_model = train_and_evaluate_model(train_data, dev_data, word_embedding_type, model_type)"
      ],
      "metadata": {
        "colab": {
          "base_uri": "https://localhost:8080/"
        },
        "id": "BIpoJa7oEKn1",
        "outputId": "cb8e791b-6b98-46d1-ba49-d83f2b295678"
      },
      "execution_count": null,
      "outputs": [
        {
          "output_type": "stream",
          "name": "stdout",
          "text": [
            "Epoch 1/5\n",
            "369/369 [==============================] - 215s 511ms/step - loss: 0.6754 - accuracy: 0.5817 - val_loss: 0.8789 - val_accuracy: 0.3984\n",
            "Epoch 2/5\n",
            "369/369 [==============================] - 174s 471ms/step - loss: 0.6548 - accuracy: 0.6132 - val_loss: 0.7037 - val_accuracy: 0.5508\n",
            "Epoch 3/5\n",
            "369/369 [==============================] - 176s 476ms/step - loss: 0.6477 - accuracy: 0.6216 - val_loss: 0.6924 - val_accuracy: 0.5754\n",
            "Epoch 4/5\n",
            "369/369 [==============================] - 175s 473ms/step - loss: 0.6461 - accuracy: 0.6197 - val_loss: 0.7051 - val_accuracy: 0.5869\n",
            "Epoch 5/5\n",
            "369/369 [==============================] - 174s 471ms/step - loss: 0.6431 - accuracy: 0.6244 - val_loss: 0.7596 - val_accuracy: 0.4770\n",
            "F1-score on Development Set: 0.4037383177570093\n"
          ]
        }
      ]
    },
    {
      "cell_type": "code",
      "source": [
        "word_embedding_type = \"word2vec\"\n",
        "model_type = \"bilstm\"\n",
        "train_data = df\n",
        "dev_data = df2\n",
        "stacked_lstm_model = train_and_evaluate_model(train_data, dev_data, word_embedding_type, model_type)"
      ],
      "metadata": {
        "colab": {
          "base_uri": "https://localhost:8080/"
        },
        "id": "Q9M5A8IbEMBv",
        "outputId": "71b2e9ba-9fcd-4fe2-f8f7-eed20cd6db07"
      },
      "execution_count": null,
      "outputs": [
        {
          "output_type": "stream",
          "name": "stdout",
          "text": [
            "Epoch 1/5\n",
            "369/369 [==============================] - 268s 674ms/step - loss: 0.6800 - accuracy: 0.5773 - val_loss: 0.7631 - val_accuracy: 0.4672\n",
            "Epoch 2/5\n",
            "369/369 [==============================] - 250s 677ms/step - loss: 0.6543 - accuracy: 0.6140 - val_loss: 0.7563 - val_accuracy: 0.4852\n",
            "Epoch 3/5\n",
            "369/369 [==============================] - 249s 674ms/step - loss: 0.6511 - accuracy: 0.6139 - val_loss: 0.7021 - val_accuracy: 0.4902\n",
            "Epoch 4/5\n",
            "369/369 [==============================] - 248s 672ms/step - loss: 0.6487 - accuracy: 0.6203 - val_loss: 0.7434 - val_accuracy: 0.4885\n",
            "Epoch 5/5\n",
            "369/369 [==============================] - 249s 674ms/step - loss: 0.6416 - accuracy: 0.6311 - val_loss: 0.7386 - val_accuracy: 0.4770\n",
            "F1-score on Development Set: 0.42933810375670844\n"
          ]
        }
      ]
    },
    {
      "cell_type": "code",
      "source": [
        "word_embedding_type = \"word2vec\"\n",
        "model_type = \"gru\"\n",
        "train_data = df\n",
        "dev_data = df2\n",
        "stacked_lstm_model = train_and_evaluate_model(train_data, dev_data, word_embedding_type, model_type)"
      ],
      "metadata": {
        "colab": {
          "base_uri": "https://localhost:8080/"
        },
        "id": "OB3fCNiJENgo",
        "outputId": "12faefa3-0154-46d4-f551-5369ee32effe"
      },
      "execution_count": null,
      "outputs": [
        {
          "output_type": "stream",
          "name": "stdout",
          "text": [
            "Epoch 1/5\n",
            "369/369 [==============================] - 131s 329ms/step - loss: 0.6733 - accuracy: 0.5796 - val_loss: 0.7192 - val_accuracy: 0.4787\n",
            "Epoch 2/5\n",
            "369/369 [==============================] - 119s 321ms/step - loss: 0.6559 - accuracy: 0.6050 - val_loss: 0.7595 - val_accuracy: 0.4541\n",
            "Epoch 3/5\n",
            "369/369 [==============================] - 126s 342ms/step - loss: 0.6464 - accuracy: 0.6225 - val_loss: 0.7305 - val_accuracy: 0.4951\n",
            "Epoch 4/5\n",
            "369/369 [==============================] - 120s 326ms/step - loss: 0.6411 - accuracy: 0.6232 - val_loss: 0.7232 - val_accuracy: 0.5180\n",
            "F1-score on Development Set: 0.40892193308550184\n"
          ]
        }
      ]
    },
    {
      "cell_type": "code",
      "source": [],
      "metadata": {
        "id": "UcXtMEbHEPAx"
      },
      "execution_count": null,
      "outputs": []
    }
  ]
}